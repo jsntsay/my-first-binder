{
 "cells": [
  {
   "cell_type": "markdown",
   "metadata": {},
   "source": [
    "# Lale User Study - March 2021 - Lale treatment\n",
    "\n",
    "Before we start, we load a dataset and print a few rows to see what it looks like."
   ]
  },
  {
   "cell_type": "code",
   "execution_count": 4,
   "metadata": {},
   "outputs": [],
   "source": [
    "#load forest covertype data, downsample for faster experiments\n",
    "import pandas as pd\n",
    "from lale.datasets import covtype_df\n",
    "from sklearn.model_selection import train_test_split\n",
    "from lale.lib.lale import categorical\n",
    "\n",
    "# (train_X_all, train_y_all), (test_X, test_y) = covtype_df(test_size=5000)\n",
    "# train_X, other_X, train_y, other_y = train_test_split(\n",
    "#     train_X_all, train_y_all, train_size=10000, stratify=train_y_all\n",
    "# )\n",
    "# constant_columns = categorical(max_values=1)(train_X)\n",
    "# train_X = train_X.drop(constant_columns, axis=1)\n",
    "# test_X = test_X.drop(constant_columns, axis=1)\n",
    "# pd.options.display.max_columns = None\n",
    "# pd.concat([train_y, train_X], axis=1)\n",
    "\n",
    "train_X = pd.read_pickle(\"train_x.pickle\")\n",
    "test_X = pd.read_pickle(\"test_x.pickle\")\n",
    "train_y = pd.read_pickle(\"train_y.pickle\")\n",
    "test_y = pd.read_pickle(\"test_y.pickle\")"
   ]
  },
  {
   "cell_type": "markdown",
   "metadata": {},
   "source": [
    "## Step 1. Understand a Pipeline\n",
    "\n",
    "Consider the following Lale pipeline:"
   ]
  },
  {
   "cell_type": "code",
   "execution_count": 2,
   "metadata": {},
   "outputs": [],
   "source": [
    "from lale.lib.sklearn import Normalizer\n",
    "from lale.lib.sklearn import SelectKBest\n",
    "from lale.lib.sklearn import KNeighborsClassifier\n",
    "from lale.lib.lale import Project\n",
    "from lale.lib.lale import categorical\n",
    "from lale.lib.lale import ConcatFeatures"
   ]
  },
  {
   "cell_type": "code",
   "execution_count": 3,
   "metadata": {},
   "outputs": [],
   "source": [
    "prepA = Project(drop_columns=categorical(max_values=2)) >> Normalizer()\n",
    "prepB = Project(columns=categorical(max_values=2)) >> SelectKBest(k=8)\n",
    "pipeline1 = (prepA & prepB) >> ConcatFeatures >> KNeighborsClassifier()"
   ]
  },
  {
   "cell_type": "code",
   "execution_count": 4,
   "metadata": {},
   "outputs": [
    {
     "name": "stdout",
     "output_type": "stream",
     "text": [
      "accuracy 68.7%\n"
     ]
    }
   ],
   "source": [
    "from sklearn.metrics import accuracy_score\n",
    "trained1 = pipeline1.fit(train_X, train_y)\n",
    "print(f\"accuracy {accuracy_score(test_y, trained1.predict(test_X)):.1%}\")"
   ]
  },
  {
   "cell_type": "markdown",
   "metadata": {},
   "source": [
    "Please answer the following questions.\n",
    "\n",
    "- Q1a: What is the final classifier in the pipeline?\n",
    "- Q1b: Where does the input for the final classifier come from?\n",
    "- Q1c: Which columns are subjected to feature selection?\n",
    "- Q1d: Why do you think the pipeline contains feature selection there?\n",
    "\n",
    "Handy documentation links:\n",
    "[Lale API](https://lale.readthedocs.io/en/latest/),\n",
    "[scikit-learn API](https://scikit-learn.org/stable/modules/classes.html)."
   ]
  },
  {
   "cell_type": "code",
   "execution_count": 5,
   "metadata": {},
   "outputs": [],
   "source": [
    "# if you'd like to try things out, put your code here"
   ]
  },
  {
   "cell_type": "markdown",
   "metadata": {},
   "source": [
    "### Answer for Step 1.\n",
    "\n",
    "- Q1a: (your answer here)\n",
    "- Q1b: (your answer here)\n",
    "- Q1c: (your answer here)\n",
    "- Q1d: (just say your answer, no need to write it down)"
   ]
  },
  {
   "cell_type": "markdown",
   "metadata": {},
   "source": [
    "## 2. Refine without Search\n",
    "\n",
    "Create a `pipeline2` that is similar to `pipeline1` from Question 1, except\n",
    "that instead of Normalizer, it uses a StandardScaler, and\n",
    "instead of KNeighborsClassifier, it uses a DecisionTreeClassifier with\n",
    "a maximum depth of 3. Handy documentation links:\n",
    "[Lale API](https://lale.readthedocs.io/en/latest/),\n",
    "[scikit-learn API](https://scikit-learn.org/stable/modules/classes.html)."
   ]
  },
  {
   "cell_type": "markdown",
   "metadata": {},
   "source": [
    "### Answer for Step 2."
   ]
  },
  {
   "cell_type": "code",
   "execution_count": 6,
   "metadata": {},
   "outputs": [],
   "source": [
    "# your code here"
   ]
  },
  {
   "cell_type": "code",
   "execution_count": 7,
   "metadata": {},
   "outputs": [
    {
     "name": "stdout",
     "output_type": "stream",
     "text": [
      "accuracy 65.7%\n"
     ]
    }
   ],
   "source": [
    "# reference answer (remove this cell for study participants)\n",
    "from lale.lib.sklearn import StandardScaler\n",
    "from lale.lib.sklearn import DecisionTreeClassifier\n",
    "prepA2 = Project(drop_columns=categorical(max_values=2)) >> StandardScaler()\n",
    "pipeline2 = (prepA2 & prepB) >> ConcatFeatures >> DecisionTreeClassifier(max_depth=3)\n",
    "trained2 = pipeline2.fit(train_X, train_y)\n",
    "print(f\"accuracy {accuracy_score(test_y, trained2.predict(test_X)):.1%}\")"
   ]
  },
  {
   "cell_type": "markdown",
   "metadata": {},
   "source": [
    "### Questions about Step 2.\n",
    "\n",
    "- Q2a. What documentation did you find the most helpful?\n",
    "- Q2b. Did your new pipeline work the first time? If not, what went wrong?\n",
    "- Q2c. What gotchas did you encounter, if any?"
   ]
  },
  {
   "cell_type": "markdown",
   "metadata": {},
   "source": [
    "## Step 3. Refine with Search\n",
    "\n",
    "Experiment with a search space of variants of `pipeline1` (from Question 1):\n",
    "\n",
    "- normalizers: Normalizer, StandardScaler, or neither\n",
    "- classifiers: LogisticRegression, ExtraTreesClassifier,\n",
    "  KNeighborsClassifier, or DecisionTreeClassifier\n",
    "\n",
    "Find the one with the best predictive performance.\n",
    "\n",
    "### Answer for Step 3."
   ]
  },
  {
   "cell_type": "code",
   "execution_count": 8,
   "metadata": {},
   "outputs": [],
   "source": [
    "# your code here"
   ]
  },
  {
   "cell_type": "code",
   "execution_count": 9,
   "metadata": {},
   "outputs": [],
   "source": [
    "# reference answer (remove this cell for study participants)\n",
    "from lale.lib.lale import NoOp\n",
    "from lale.lib.lale import Hyperopt\n",
    "from lale.lib.sklearn import LogisticRegression\n",
    "from lale.lib.sklearn import ExtraTreesClassifier\n",
    "\n",
    "prepA3 = (\n",
    "    Project(drop_columns=categorical(max_values=2))\n",
    "    >> (Normalizer | StandardScaler | NoOp)\n",
    ")\n",
    "clf = (\n",
    "    LogisticRegression\n",
    "    | ExtraTreesClassifier\n",
    "    | KNeighborsClassifier\n",
    "    | DecisionTreeClassifier\n",
    ")\n",
    "pipeline3 = (prepA3 & prepB) >> ConcatFeatures >> clf"
   ]
  },
  {
   "cell_type": "code",
   "execution_count": 10,
   "metadata": {},
   "outputs": [
    {
     "name": "stdout",
     "output_type": "stream",
     "text": [
      "100%|███████| 10/10 [01:30<00:00,  9.05s/trial, best loss: -0.7181005743045811]\n"
     ]
    }
   ],
   "source": [
    "# reference answer (remove this cell for study participants)\n",
    "trained3 = pipeline3.auto_configure(\n",
    "    train_X, train_y, cv=3, optimizer=Hyperopt, max_evals=10\n",
    ")"
   ]
  },
  {
   "cell_type": "code",
   "execution_count": 11,
   "metadata": {},
   "outputs": [
    {
     "name": "stdout",
     "output_type": "stream",
     "text": [
      "accuracy 72.9%\n"
     ]
    },
    {
     "data": {
      "image/svg+xml": [
       "<?xml version=\"1.0\" encoding=\"UTF-8\" standalone=\"no\"?>\n",
       "<!DOCTYPE svg PUBLIC \"-//W3C//DTD SVG 1.1//EN\"\n",
       " \"http://www.w3.org/Graphics/SVG/1.1/DTD/svg11.dtd\">\n",
       "<!-- Generated by graphviz version 2.38.0 (20140413.2041)\n",
       " -->\n",
       "<!-- Title: cluster:(root) Pages: 1 -->\n",
       "<svg width=\"375pt\" height=\"111pt\"\n",
       " viewBox=\"0.00 0.00 375.06 111.08\" xmlns=\"http://www.w3.org/2000/svg\" xmlns:xlink=\"http://www.w3.org/1999/xlink\">\n",
       "<g id=\"graph0\" class=\"graph\" transform=\"scale(1 1) rotate(0) translate(4 107.083)\">\n",
       "<title>cluster:(root)</title>\n",
       "<g id=\"a_graph0\"><a xlink:title=\"(root) = ...\">\n",
       "<polygon fill=\"white\" stroke=\"none\" points=\"-4,4 -4,-107.083 371.061,-107.083 371.061,4 -4,4\"/>\n",
       "</a>\n",
       "</g>\n",
       "<!-- project_0 -->\n",
       "<g id=\"node1\" class=\"node\"><title>project_0</title>\n",
       "<g id=\"a_node1\"><a xlink:href=\"https://lale.readthedocs.io/en/latest/modules/lale.lib.lale.project.html\" xlink:title=\"project_0 = Project(drop_columns=lale.lib.lale.categorical(max_values=2))\">\n",
       "<ellipse fill=\"white\" stroke=\"black\" cx=\"27\" cy=\"-83.2843\" rx=\"27\" ry=\"18\"/>\n",
       "<text text-anchor=\"middle\" x=\"27\" y=\"-80.4843\" font-family=\"Times,serif\" font-size=\"11.00\">Project</text>\n",
       "</a>\n",
       "</g>\n",
       "</g>\n",
       "<!-- no_op -->\n",
       "<g id=\"node2\" class=\"node\"><title>no_op</title>\n",
       "<g id=\"a_node2\"><a xlink:href=\"https://lale.readthedocs.io/en/latest/modules/lale.lib.lale.no_op.html\" xlink:title=\"no_op = NoOp()\">\n",
       "<ellipse fill=\"white\" stroke=\"black\" cx=\"118.284\" cy=\"-83.2843\" rx=\"27\" ry=\"19.6\"/>\n",
       "<text text-anchor=\"middle\" x=\"118.284\" y=\"-86.4843\" font-family=\"Times,serif\" font-size=\"11.00\">No&#45;</text>\n",
       "<text text-anchor=\"middle\" x=\"118.284\" y=\"-74.4843\" font-family=\"Times,serif\" font-size=\"11.00\">Op</text>\n",
       "</a>\n",
       "</g>\n",
       "</g>\n",
       "<!-- project_0&#45;&gt;no_op -->\n",
       "<g id=\"edge1\" class=\"edge\"><title>project_0&#45;&gt;no_op</title>\n",
       "<path fill=\"none\" stroke=\"black\" d=\"M54.3053,-83.2843C62.6609,-83.2843 72.0538,-83.2843 80.9848,-83.2843\"/>\n",
       "<polygon fill=\"black\" stroke=\"black\" points=\"81.167,-86.7844 91.167,-83.2843 81.1669,-79.7844 81.167,-86.7844\"/>\n",
       "</g>\n",
       "<!-- concat_features -->\n",
       "<g id=\"node5\" class=\"node\"><title>concat_features</title>\n",
       "<g id=\"a_node5\"><a xlink:href=\"https://lale.readthedocs.io/en/latest/modules/lale.lib.lale.concat_features.html\" xlink:title=\"concat_features = ConcatFeatures()\">\n",
       "<ellipse fill=\"white\" stroke=\"black\" cx=\"215.803\" cy=\"-55.2843\" rx=\"33.4697\" ry=\"19.6\"/>\n",
       "<text text-anchor=\"middle\" x=\"215.803\" y=\"-58.4843\" font-family=\"Times,serif\" font-size=\"11.00\">Concat&#45;</text>\n",
       "<text text-anchor=\"middle\" x=\"215.803\" y=\"-46.4843\" font-family=\"Times,serif\" font-size=\"11.00\">Features</text>\n",
       "</a>\n",
       "</g>\n",
       "</g>\n",
       "<!-- no_op&#45;&gt;concat_features -->\n",
       "<g id=\"edge3\" class=\"edge\"><title>no_op&#45;&gt;concat_features</title>\n",
       "<path fill=\"none\" stroke=\"black\" d=\"M143.883,-76.0736C153.616,-73.2202 165.044,-69.8704 175.848,-66.7032\"/>\n",
       "<polygon fill=\"black\" stroke=\"black\" points=\"176.918,-70.0371 185.529,-63.8653 174.949,-63.3198 176.918,-70.0371\"/>\n",
       "</g>\n",
       "<!-- project_1 -->\n",
       "<g id=\"node3\" class=\"node\"><title>project_1</title>\n",
       "<g id=\"a_node3\"><a xlink:href=\"https://lale.readthedocs.io/en/latest/modules/lale.lib.lale.project.html\" xlink:title=\"project_1 = Project(columns=lale.lib.lale.categorical(max_values=2))\">\n",
       "<ellipse fill=\"white\" stroke=\"black\" cx=\"27\" cy=\"-28.2843\" rx=\"27\" ry=\"18\"/>\n",
       "<text text-anchor=\"middle\" x=\"27\" y=\"-25.4843\" font-family=\"Times,serif\" font-size=\"11.00\">Project</text>\n",
       "</a>\n",
       "</g>\n",
       "</g>\n",
       "<!-- select_k_best -->\n",
       "<g id=\"node4\" class=\"node\"><title>select_k_best</title>\n",
       "<g id=\"a_node4\"><a xlink:href=\"https://lale.readthedocs.io/en/latest/modules/lale.lib.sklearn.select_k_best.html\" xlink:title=\"select_k_best = SelectKBest(k=8)\">\n",
       "<ellipse fill=\"white\" stroke=\"black\" cx=\"118.284\" cy=\"-28.2843\" rx=\"28.0702\" ry=\"28.0702\"/>\n",
       "<text text-anchor=\"middle\" x=\"118.284\" y=\"-37.4843\" font-family=\"Times,serif\" font-size=\"11.00\">Select&#45;</text>\n",
       "<text text-anchor=\"middle\" x=\"118.284\" y=\"-25.4843\" font-family=\"Times,serif\" font-size=\"11.00\">K&#45;</text>\n",
       "<text text-anchor=\"middle\" x=\"118.284\" y=\"-13.4843\" font-family=\"Times,serif\" font-size=\"11.00\">Best</text>\n",
       "</a>\n",
       "</g>\n",
       "</g>\n",
       "<!-- project_1&#45;&gt;select_k_best -->\n",
       "<g id=\"edge2\" class=\"edge\"><title>project_1&#45;&gt;select_k_best</title>\n",
       "<path fill=\"none\" stroke=\"black\" d=\"M54.3053,-28.2843C62.2775,-28.2843 71.194,-28.2843 79.7527,-28.2843\"/>\n",
       "<polygon fill=\"black\" stroke=\"black\" points=\"79.9273,-31.7844 89.9273,-28.2843 79.9273,-24.7844 79.9273,-31.7844\"/>\n",
       "</g>\n",
       "<!-- select_k_best&#45;&gt;concat_features -->\n",
       "<g id=\"edge4\" class=\"edge\"><title>select_k_best&#45;&gt;concat_features</title>\n",
       "<path fill=\"none\" stroke=\"black\" d=\"M145.638,-35.7336C154.915,-38.3559 165.551,-41.3623 175.654,-44.2183\"/>\n",
       "<polygon fill=\"black\" stroke=\"black\" points=\"174.936,-47.6523 185.511,-47.0045 176.84,-40.9163 174.936,-47.6523\"/>\n",
       "</g>\n",
       "<!-- k_neighbors_classifier -->\n",
       "<g id=\"node6\" class=\"node\"><title>k_neighbors_classifier</title>\n",
       "<g id=\"a_node6\"><a xlink:href=\"https://lale.readthedocs.io/en/latest/modules/lale.lib.sklearn.k_neighbors_classifier.html\" xlink:title=\"k_neighbors_classifier = KNeighborsClassifier(n_neighbors=68, p=1, weights=&#39;distance&#39;)\">\n",
       "<ellipse fill=\"white\" stroke=\"black\" cx=\"326.049\" cy=\"-55.2843\" rx=\"41.0244\" ry=\"28.0702\"/>\n",
       "<text text-anchor=\"middle\" x=\"326.049\" y=\"-64.4843\" font-family=\"Times,serif\" font-size=\"11.00\">K&#45;</text>\n",
       "<text text-anchor=\"middle\" x=\"326.049\" y=\"-52.4843\" font-family=\"Times,serif\" font-size=\"11.00\">Neighbors&#45;</text>\n",
       "<text text-anchor=\"middle\" x=\"326.049\" y=\"-40.4843\" font-family=\"Times,serif\" font-size=\"11.00\">Classifier</text>\n",
       "</a>\n",
       "</g>\n",
       "</g>\n",
       "<!-- concat_features&#45;&gt;k_neighbors_classifier -->\n",
       "<g id=\"edge5\" class=\"edge\"><title>concat_features&#45;&gt;k_neighbors_classifier</title>\n",
       "<path fill=\"none\" stroke=\"black\" d=\"M249.28,-55.2843C257.337,-55.2843 266.16,-55.2843 274.847,-55.2843\"/>\n",
       "<polygon fill=\"black\" stroke=\"black\" points=\"274.929,-58.7844 284.929,-55.2843 274.929,-51.7844 274.929,-58.7844\"/>\n",
       "</g>\n",
       "</g>\n",
       "</svg>\n"
      ],
      "text/plain": [
       "<graphviz.dot.Digraph at 0x7f6540a98240>"
      ]
     },
     "metadata": {},
     "output_type": "display_data"
    }
   ],
   "source": [
    "# reference answer (remove this cell for study participants)\n",
    "print(f\"accuracy {accuracy_score(test_y, trained3.predict(test_X)):.1%}\")\n",
    "trained3.visualize()"
   ]
  },
  {
   "cell_type": "markdown",
   "metadata": {},
   "source": [
    "### Questions about Step 3.\n",
    "\n",
    "- Q3a. Which pipeline variant lead to the highest accuracy?\n",
    "- Q3b. What was the accuracy of that pipeline variant?\n",
    "- Q3c. Did your new pipeline work the first time? If not, what went wrong?\n",
    "- Q3d. What gotchas did you encounter, if any?\n",
    "- Q3e. How do you normally search across pipeline variants?"
   ]
  },
  {
   "cell_type": "markdown",
   "metadata": {},
   "source": [
    "## Step 4. Error Messages\n",
    "\n",
    "Look at the error message from the following code:"
   ]
  },
  {
   "cell_type": "code",
   "execution_count": 12,
   "metadata": {},
   "outputs": [
    {
     "ename": "ValidationError",
     "evalue": "Invalid configuration for LinearSVC(penalty='l1', loss='hinge') due to constraint the combination of penalty=`l1` and loss=`hinge` is not supported.\nSchema of constraint 1: {\n    \"description\": \"The combination of penalty=`l1` and loss=`hinge` is not supported\",\n    \"anyOf\": [\n        {\"type\": \"object\", \"properties\": {\"penalty\": {\"enum\": [\"l2\"]}}},\n        {\n            \"type\": \"object\",\n            \"properties\": {\"loss\": {\"enum\": [\"squared_hinge\"]}},\n        },\n    ],\n}\nValue: {'penalty': 'l1', 'loss': 'hinge', 'dual': True, 'tol': 0.0001, 'C': 1.0, 'multi_class': 'ovr', 'fit_intercept': True, 'intercept_scaling': 1.0, 'class_weight': None, 'verbose': 0, 'random_state': None, 'max_iter': 1000}",
     "output_type": "error",
     "traceback": [
      "\u001b[0;31m---------------------------------------------------------------------------\u001b[0m",
      "\u001b[0;31mValidationError\u001b[0m                           Traceback (most recent call last)",
      "\u001b[0;32m<ipython-input-12-ed2877e847ad>\u001b[0m in \u001b[0;36m<module>\u001b[0;34m\u001b[0m\n\u001b[1;32m      1\u001b[0m \u001b[0;32mfrom\u001b[0m \u001b[0mlale\u001b[0m\u001b[0;34m.\u001b[0m\u001b[0mlib\u001b[0m\u001b[0;34m.\u001b[0m\u001b[0msklearn\u001b[0m \u001b[0;32mimport\u001b[0m \u001b[0mLinearSVC\u001b[0m\u001b[0;34m\u001b[0m\u001b[0m\n\u001b[0;32m----> 2\u001b[0;31m \u001b[0mpipeline4\u001b[0m \u001b[0;34m=\u001b[0m \u001b[0mSelectKBest\u001b[0m\u001b[0;34m(\u001b[0m\u001b[0mk\u001b[0m\u001b[0;34m=\u001b[0m\u001b[0;36m15\u001b[0m\u001b[0;34m)\u001b[0m \u001b[0;34m>>\u001b[0m \u001b[0mLinearSVC\u001b[0m\u001b[0;34m(\u001b[0m\u001b[0mpenalty\u001b[0m\u001b[0;34m=\u001b[0m\u001b[0;34m\"l1\"\u001b[0m\u001b[0;34m,\u001b[0m \u001b[0mloss\u001b[0m\u001b[0;34m=\u001b[0m\u001b[0;34m\"hinge\"\u001b[0m\u001b[0;34m)\u001b[0m\u001b[0;34m\u001b[0m\u001b[0m\n\u001b[0m\u001b[1;32m      3\u001b[0m \u001b[0mtrained4\u001b[0m \u001b[0;34m=\u001b[0m \u001b[0mpipeline4\u001b[0m\u001b[0;34m.\u001b[0m\u001b[0mfit\u001b[0m\u001b[0;34m(\u001b[0m\u001b[0mtrain_X\u001b[0m\u001b[0;34m,\u001b[0m \u001b[0mtrain_y\u001b[0m\u001b[0;34m)\u001b[0m\u001b[0;34m\u001b[0m\u001b[0m\n\u001b[1;32m      4\u001b[0m \u001b[0mpred_y\u001b[0m \u001b[0;34m=\u001b[0m \u001b[0mtrained4\u001b[0m\u001b[0;34m.\u001b[0m\u001b[0mpredict\u001b[0m\u001b[0;34m(\u001b[0m\u001b[0mtest_X\u001b[0m\u001b[0;34m)\u001b[0m\u001b[0;34m\u001b[0m\u001b[0m\n",
      "\u001b[0;32m~/git/hirzel/lale/lale/operators.py\u001b[0m in \u001b[0;36m__call__\u001b[0;34m(self, *args, **kwargs)\u001b[0m\n\u001b[1;32m   1851\u001b[0m \u001b[0;34m\u001b[0m\u001b[0m\n\u001b[1;32m   1852\u001b[0m     \u001b[0;32mdef\u001b[0m \u001b[0m__call__\u001b[0m\u001b[0;34m(\u001b[0m\u001b[0mself\u001b[0m\u001b[0;34m,\u001b[0m \u001b[0;34m*\u001b[0m\u001b[0margs\u001b[0m\u001b[0;34m,\u001b[0m \u001b[0;34m**\u001b[0m\u001b[0mkwargs\u001b[0m\u001b[0;34m)\u001b[0m \u001b[0;34m->\u001b[0m \u001b[0;34m\"TrainableIndividualOp\"\u001b[0m\u001b[0;34m:\u001b[0m\u001b[0;34m\u001b[0m\u001b[0m\n\u001b[0;32m-> 1853\u001b[0;31m         \u001b[0;32mreturn\u001b[0m \u001b[0mself\u001b[0m\u001b[0;34m.\u001b[0m\u001b[0m_configure\u001b[0m\u001b[0;34m(\u001b[0m\u001b[0;34m*\u001b[0m\u001b[0margs\u001b[0m\u001b[0;34m,\u001b[0m \u001b[0;34m**\u001b[0m\u001b[0mkwargs\u001b[0m\u001b[0;34m)\u001b[0m\u001b[0;34m\u001b[0m\u001b[0m\n\u001b[0m\u001b[1;32m   1854\u001b[0m \u001b[0;34m\u001b[0m\u001b[0m\n\u001b[1;32m   1855\u001b[0m     \u001b[0;32mdef\u001b[0m \u001b[0m_hyperparam_schema_with_hyperparams\u001b[0m\u001b[0;34m(\u001b[0m\u001b[0mself\u001b[0m\u001b[0;34m,\u001b[0m \u001b[0mdata_schema\u001b[0m\u001b[0;34m=\u001b[0m\u001b[0;34m{\u001b[0m\u001b[0;34m}\u001b[0m\u001b[0;34m)\u001b[0m\u001b[0;34m:\u001b[0m\u001b[0;34m\u001b[0m\u001b[0m\n",
      "\u001b[0;32m~/git/hirzel/lale/lale/operators.py\u001b[0m in \u001b[0;36m_configure\u001b[0;34m(self, *args, **kwargs)\u001b[0m\n\u001b[1;32m   1175\u001b[0m         \u001b[0;31m# TODO: improve this code\u001b[0m\u001b[0;34m\u001b[0m\u001b[0;34m\u001b[0m\u001b[0m\n\u001b[1;32m   1176\u001b[0m         \u001b[0mparams_all\u001b[0m \u001b[0;34m=\u001b[0m \u001b[0mtrainable_to_get_params\u001b[0m\u001b[0;34m.\u001b[0m\u001b[0m_get_params_all\u001b[0m\u001b[0;34m(\u001b[0m\u001b[0;34m)\u001b[0m\u001b[0;34m\u001b[0m\u001b[0m\n\u001b[0;32m-> 1177\u001b[0;31m         \u001b[0mself\u001b[0m\u001b[0;34m.\u001b[0m\u001b[0m_validate_hyperparams\u001b[0m\u001b[0;34m(\u001b[0m\u001b[0mhyperparams\u001b[0m\u001b[0;34m,\u001b[0m \u001b[0mparams_all\u001b[0m\u001b[0;34m,\u001b[0m \u001b[0mself\u001b[0m\u001b[0;34m.\u001b[0m\u001b[0mhyperparam_schema\u001b[0m\u001b[0;34m(\u001b[0m\u001b[0;34m)\u001b[0m\u001b[0;34m)\u001b[0m\u001b[0;34m\u001b[0m\u001b[0m\n\u001b[0m\u001b[1;32m   1178\u001b[0m         \u001b[0;31m# TODO: delay creating the impl here\u001b[0m\u001b[0;34m\u001b[0m\u001b[0;34m\u001b[0m\u001b[0m\n\u001b[1;32m   1179\u001b[0m         \u001b[0;32mif\u001b[0m \u001b[0mlen\u001b[0m\u001b[0;34m(\u001b[0m\u001b[0mparams_all\u001b[0m\u001b[0;34m)\u001b[0m \u001b[0;34m==\u001b[0m \u001b[0;36m0\u001b[0m\u001b[0;34m:\u001b[0m\u001b[0;34m\u001b[0m\u001b[0m\n",
      "\u001b[0;32m~/git/hirzel/lale/lale/operators.py\u001b[0m in \u001b[0;36m_validate_hyperparams\u001b[0;34m(self, hp_explicit, hp_all, hp_schema)\u001b[0m\n\u001b[1;32m   1698\u001b[0m                 \u001b[0;34m+\u001b[0m \u001b[0;34mf\"Value: {e.instance}\"\u001b[0m\u001b[0;34m\u001b[0m\u001b[0m\n\u001b[1;32m   1699\u001b[0m             )\n\u001b[0;32m-> 1700\u001b[0;31m             \u001b[0;32mraise\u001b[0m \u001b[0mjsonschema\u001b[0m\u001b[0;34m.\u001b[0m\u001b[0mValidationError\u001b[0m\u001b[0;34m(\u001b[0m\u001b[0mmsg\u001b[0m\u001b[0;34m)\u001b[0m\u001b[0;34m\u001b[0m\u001b[0m\n\u001b[0m\u001b[1;32m   1701\u001b[0m \u001b[0;34m\u001b[0m\u001b[0m\n\u001b[1;32m   1702\u001b[0m     \u001b[0;32mdef\u001b[0m \u001b[0mvalidate_schema\u001b[0m\u001b[0;34m(\u001b[0m\u001b[0mself\u001b[0m\u001b[0;34m,\u001b[0m \u001b[0mX\u001b[0m\u001b[0;34m,\u001b[0m \u001b[0my\u001b[0m\u001b[0;34m=\u001b[0m\u001b[0;32mNone\u001b[0m\u001b[0;34m)\u001b[0m\u001b[0;34m:\u001b[0m\u001b[0;34m\u001b[0m\u001b[0m\n",
      "\u001b[0;31mValidationError\u001b[0m: Invalid configuration for LinearSVC(penalty='l1', loss='hinge') due to constraint the combination of penalty=`l1` and loss=`hinge` is not supported.\nSchema of constraint 1: {\n    \"description\": \"The combination of penalty=`l1` and loss=`hinge` is not supported\",\n    \"anyOf\": [\n        {\"type\": \"object\", \"properties\": {\"penalty\": {\"enum\": [\"l2\"]}}},\n        {\n            \"type\": \"object\",\n            \"properties\": {\"loss\": {\"enum\": [\"squared_hinge\"]}},\n        },\n    ],\n}\nValue: {'penalty': 'l1', 'loss': 'hinge', 'dual': True, 'tol': 0.0001, 'C': 1.0, 'multi_class': 'ovr', 'fit_intercept': True, 'intercept_scaling': 1.0, 'class_weight': None, 'verbose': 0, 'random_state': None, 'max_iter': 1000}"
     ]
    }
   ],
   "source": [
    "from lale.lib.sklearn import LinearSVC\n",
    "pipeline4 = SelectKBest(k=15) >> LinearSVC(penalty=\"l1\", loss=\"hinge\")\n",
    "trained4 = pipeline4.fit(train_X, train_y)\n",
    "pred_y = trained4.predict(test_X)"
   ]
  },
  {
   "cell_type": "markdown",
   "metadata": {},
   "source": [
    "Make a small change to the pipeline to avoid that error.\n",
    "\n",
    "Handy documentation links:\n",
    "[sklearn docs for LinearSVC](https://scikit-learn.org/stable/modules/generated/sklearn.svm.LinearSVC.html),\n",
    "[Lale docs for LinearSVC](https://lale.readthedocs.io/en/latest/modules/lale.lib.sklearn.linear_svc.html).\n",
    "\n",
    "### Answer for Step 4."
   ]
  },
  {
   "cell_type": "code",
   "execution_count": null,
   "metadata": {},
   "outputs": [],
   "source": [
    "# your code here"
   ]
  },
  {
   "cell_type": "code",
   "execution_count": 13,
   "metadata": {},
   "outputs": [],
   "source": [
    "# reference answer (remove this cell for study participants)\n",
    "pipeline4 = SelectKBest(k=15) >> LinearSVC(penalty=\"l2\", loss=\"hinge\")\n",
    "trained4 = pipeline4.fit(train_X, train_y)\n",
    "pred_y = trained4.predict(test_X)"
   ]
  },
  {
   "cell_type": "markdown",
   "metadata": {},
   "source": [
    "### Questions about Step 4.\n",
    "\n",
    "- Q4a. What caused the error?\n",
    "- Q4b. Which documentation did you find useful for diagnosing the error?\n",
    "- Q4c. Was the schema in the error message useful?\n",
    "- Q4d. How do you normally debug machine learning pipelines?"
   ]
  }
 ],
 "metadata": {
  "kernelspec": {
   "display_name": "Python 3",
   "language": "python",
   "name": "python3"
  },
  "language_info": {
   "codemirror_mode": {
    "name": "ipython",
    "version": 3
   },
   "file_extension": ".py",
   "mimetype": "text/x-python",
   "name": "python",
   "nbconvert_exporter": "python",
   "pygments_lexer": "ipython3",
   "version": "3.7.9"
  }
 },
 "nbformat": 4,
 "nbformat_minor": 2
}
